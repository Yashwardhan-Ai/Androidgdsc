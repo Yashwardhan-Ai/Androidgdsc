{
  "cells": [
    {
      "cell_type": "markdown",
      "metadata": {
        "id": "view-in-github",
        "colab_type": "text"
      },
      "source": [
        "<a href=\"https://colab.research.google.com/github/Yashwardhan-Ai/Androidgdsc/blob/main/GDSC_Event_Hand_Written_Digit_Recognition.ipynb\" target=\"_parent\"><img src=\"https://colab.research.google.com/assets/colab-badge.svg\" alt=\"Open In Colab\"/></a>"
      ]
    },
    {
      "cell_type": "code",
      "execution_count": 23,
      "metadata": {
        "id": "QyYZKu5cgVgk"
      },
      "outputs": [],
      "source": [
        "import numpy as np\n",
        "import matplotlib.pyplot as plt\n",
        "import tensorflow as tf"
      ]
    },
    {
      "cell_type": "code",
      "execution_count": null,
      "metadata": {
        "id": "bVZj-3Hkgd3r"
      },
      "outputs": [],
      "source": [
        "mnist = tf.keras.datasets.mnist"
      ]
    },
    {
      "cell_type": "code",
      "execution_count": null,
      "metadata": {
        "id": "h9KEtmgwgsMO",
        "colab": {
          "base_uri": "https://localhost:8080/"
        },
        "outputId": "955f3255-4d16-41de-914c-9ef427ff1cce"
      },
      "outputs": [
        {
          "output_type": "stream",
          "name": "stdout",
          "text": [
            "Downloading data from https://storage.googleapis.com/tensorflow/tf-keras-datasets/mnist.npz\n",
            "11490434/11490434 [==============================] - 1s 0us/step\n"
          ]
        }
      ],
      "source": [
        "(x_train, y_train),(x_test, y_test) = mnist.load_data()"
      ]
    },
    {
      "cell_type": "code",
      "execution_count": null,
      "metadata": {
        "id": "z3rJUF63g1nw",
        "colab": {
          "base_uri": "https://localhost:8080/"
        },
        "outputId": "1894d67b-1367-410d-a158-e1997d1b96ae"
      },
      "outputs": [
        {
          "output_type": "stream",
          "name": "stdout",
          "text": [
            "(60000, 28, 28) (60000,) (10000, 28, 28) (10000,)\n"
          ]
        }
      ],
      "source": [
        "print(x_train.shape, y_train.shape, x_test.shape, y_test.shape)"
      ]
    },
    {
      "cell_type": "code",
      "execution_count": null,
      "metadata": {
        "id": "4BD6YHhIg9ON",
        "colab": {
          "base_uri": "https://localhost:8080/",
          "height": 675
        },
        "outputId": "0db1e282-2a7c-447e-cee0-d792d2f705ce"
      },
      "outputs": [
        {
          "output_type": "display_data",
          "data": {
            "text/plain": [
              "<Figure size 800x800 with 9 Axes>"
            ],
            "image/png": "[encoded data removed]"
          },
          "metadata": {}
        }
      ],
      "source": [
        "plt.figure(figsize=(8,8))\n",
        "for i in range(9):\n",
        "  plt.subplot(3,3,i+1)\n",
        "  plt.imshow(x_train[i])\n",
        "  plt.title(y_train[i])\n",
        "  plt.axis('off')"
      ]
    },
    {
      "cell_type": "markdown",
      "source": [
        "Normalization is a preprocessing step in machine learning where the features (in this case, the input data x_train and x_test) are adjusted to have a mean of 0 and a standard deviation of 1, or to scale the values to a range between 0 and 1."
      ],
      "metadata": {
        "id": "G_djFjyYEf9r"
      }
    },
    {
      "cell_type": "code",
      "execution_count": null,
      "metadata": {
        "id": "yM0HuZKYhVNO"
      },
      "outputs": [],
      "source": [
        "x_train = tf.keras.utils.normalize(x_train, axis =0)\n",
        "x_test = tf.keras.utils.normalize(x_test, axis =0)"
      ]
    },
    {
      "cell_type": "markdown",
      "metadata": {
        "id": "C5VuSbyChu-o"
      },
      "source": [
        "Building Model"
      ]
    },
    {
      "cell_type": "code",
      "execution_count": null,
      "metadata": {
        "id": "EM0apwONhzOA"
      },
      "outputs": [],
      "source": [
        "model = tf.keras.models.Sequential()\n",
        "model.add(tf.keras.layers.Flatten(input_shape = (28,28)))\n",
        "#Flattens the 28x28 pixel images into a 1D array of 784 elements.\n",
        "model.add(tf.keras.layers.Dense(128, activation = 'relu'))\n",
        "#This adds a fully connected Dense layer to the model with 128 neurons.\n",
        "model.add(tf.keras.layers.Dense(64, activation = 'relu'))\n",
        "#This adds a fully connected Dense layer to the model with 64 neurons.\n",
        "model.add(tf.keras.layers.Dense(32, activation = 'relu'))\n",
        "#This adds a fully connected Dense layer to the model with 32 neurons.\n",
        "model.add(tf.keras.layers.Dense(10, activation='softmax'))\n",
        "#This adds a fully connected Dense layer to the model with 10 output neurons for multiclass classification."
      ]
    },
    {
      "cell_type": "code",
      "execution_count": null,
      "metadata": {
        "id": "NoSuXXBXiFVN",
        "colab": {
          "base_uri": "https://localhost:8080/"
        },
        "outputId": "6d0c833f-a911-41b8-e9bc-7fbeb3a3232d"
      },
      "outputs": [
        {
          "output_type": "stream",
          "name": "stdout",
          "text": [
            "Model: \"sequential\"\n",
            "_________________________________________________________________\n",
            " Layer (type)                Output Shape              Param #   \n",
            "=================================================================\n",
            " flatten (Flatten)           (None, 784)               0         \n",
            "                                                                 \n",
            " dense (Dense)               (None, 128)               100480    \n",
            "                                                                 \n",
            " dense_1 (Dense)             (None, 64)                8256      \n",
            "                                                                 \n",
            " dense_2 (Dense)             (None, 32)                2080      \n",
            "                                                                 \n",
            " dense_3 (Dense)             (None, 10)                330       \n",
            "                                                                 \n",
            "=================================================================\n",
            "Total params: 111146 (434.16 KB)\n",
            "Trainable params: 111146 (434.16 KB)\n",
            "Non-trainable params: 0 (0.00 Byte)\n",
            "_________________________________________________________________\n"
          ]
        }
      ],
      "source": [
        "model.summary()"
      ]
    },
    {
      "cell_type": "code",
      "execution_count": null,
      "metadata": {
        "id": "Oxwu8iRQiY76"
      },
      "outputs": [],
      "source": [
        "model.compile(optimizer = 'adam', loss = tf.keras.losses.SparseCategoricalCrossentropy(from_logits=True), metrics =['accuracy'])"
      ]
    },
    {
      "cell_type": "code",
      "execution_count": null,
      "metadata": {
        "id": "3HO4iqOoir8L",
        "colab": {
          "base_uri": "https://localhost:8080/"
        },
        "outputId": "a574ca1f-be2f-414e-e7e2-9a659f36ace3"
      },
      "outputs": [
        {
          "output_type": "stream",
          "name": "stdout",
          "text": [
            "Epoch 1/15\n"
          ]
        },
        {
          "output_type": "stream",
          "name": "stderr",
          "text": [
            "/usr/local/lib/python3.10/dist-packages/keras/src/backend.py:5727: UserWarning: \"`sparse_categorical_crossentropy` received `from_logits=True`, but the `output` argument was produced by a Softmax activation and thus does not represent logits. Was this intended?\n",
            "  output, from_logits = _get_logits(\n"
          ]
        },
        {
          "output_type": "stream",
          "name": "stdout",
          "text": [
            "1875/1875 [==============================] - 10s 5ms/step - loss: 0.6425 - accuracy: 0.7969 - val_loss: 0.4497 - val_accuracy: 0.8939\n",
            "Epoch 2/15\n",
            "1875/1875 [==============================] - 7s 4ms/step - loss: 0.2653 - accuracy: 0.9209 - val_loss: 0.3126 - val_accuracy: 0.9290\n",
            "Epoch 3/15\n",
            "1875/1875 [==============================] - 8s 4ms/step - loss: 0.1877 - accuracy: 0.9441 - val_loss: 0.2675 - val_accuracy: 0.9418\n",
            "Epoch 4/15\n",
            "1875/1875 [==============================] - 9s 5ms/step - loss: 0.1484 - accuracy: 0.9551 - val_loss: 0.2165 - val_accuracy: 0.9516\n",
            "Epoch 5/15\n",
            "1875/1875 [==============================] - 7s 4ms/step - loss: 0.1227 - accuracy: 0.9627 - val_loss: 0.1958 - val_accuracy: 0.9589\n",
            "Epoch 6/15\n",
            "1875/1875 [==============================] - 8s 4ms/step - loss: 0.1021 - accuracy: 0.9688 - val_loss: 0.2318 - val_accuracy: 0.9547\n",
            "Epoch 7/15\n",
            "1875/1875 [==============================] - 8s 4ms/step - loss: 0.0885 - accuracy: 0.9723 - val_loss: 0.2029 - val_accuracy: 0.9615\n",
            "Epoch 8/15\n",
            "1875/1875 [==============================] - 7s 4ms/step - loss: 0.0763 - accuracy: 0.9758 - val_loss: 0.2248 - val_accuracy: 0.9605\n",
            "Epoch 9/15\n",
            "1875/1875 [==============================] - 8s 4ms/step - loss: 0.0659 - accuracy: 0.9795 - val_loss: 0.2050 - val_accuracy: 0.9648\n",
            "Epoch 10/15\n",
            "1875/1875 [==============================] - 7s 4ms/step - loss: 0.0583 - accuracy: 0.9820 - val_loss: 0.2146 - val_accuracy: 0.9665\n",
            "Epoch 11/15\n",
            "1875/1875 [==============================] - 8s 4ms/step - loss: 0.0511 - accuracy: 0.9840 - val_loss: 0.2198 - val_accuracy: 0.9650\n",
            "Epoch 12/15\n",
            "1875/1875 [==============================] - 9s 5ms/step - loss: 0.0464 - accuracy: 0.9850 - val_loss: 0.2138 - val_accuracy: 0.9695\n",
            "Epoch 13/15\n",
            "1875/1875 [==============================] - 7s 4ms/step - loss: 0.0411 - accuracy: 0.9868 - val_loss: 0.2190 - val_accuracy: 0.9698\n",
            "Epoch 14/15\n",
            "1875/1875 [==============================] - 8s 4ms/step - loss: 0.0354 - accuracy: 0.9887 - val_loss: 0.2341 - val_accuracy: 0.9690\n",
            "Epoch 15/15\n",
            "1875/1875 [==============================] - 8s 4ms/step - loss: 0.0324 - accuracy: 0.9895 - val_loss: 0.2765 - val_accuracy: 0.9630\n"
          ]
        },
        {
          "output_type": "execute_result",
          "data": {
            "text/plain": [
              "<keras.src.callbacks.History at 0x7d4cb39691b0>"
            ]
          },
          "metadata": {},
          "execution_count": 10
        }
      ],
      "source": [
        "model.fit(x_train, y_train, validation_data=(x_test, y_test), batch_size=32, epochs = 15)"
      ]
    },
    {
      "cell_type": "code",
      "execution_count": null,
      "metadata": {
        "id": "I1jCUzDpi6ob"
      },
      "outputs": [],
      "source": [
        "import cv2"
      ]
    },
    {
      "cell_type": "code",
      "execution_count": 24,
      "metadata": {
        "id": "VDNheYvVkA0u"
      },
      "outputs": [],
      "source": [
        "image = cv2.imread('7.png')[:,:,0]\n",
        "image = np.invert(np.array([image]))"
      ]
    },
    {
      "cell_type": "code",
      "execution_count": 25,
      "metadata": {
        "id": "3P8N-3qIkUol",
        "outputId": "6e35a46e-fa26-4d0c-c473-1087379f807a",
        "colab": {
          "base_uri": "https://localhost:8080/",
          "height": 465
        }
      },
      "outputs": [
        {
          "output_type": "stream",
          "name": "stdout",
          "text": [
            "1/1 [==============================] - 0s 104ms/step\n",
            "7\n"
          ]
        },
        {
          "output_type": "display_data",
          "data": {
            "text/plain": [
              "<Figure size 640x480 with 1 Axes>"
            ],
            "image/png": "[encoded data removed]"
          },
          "metadata": {}
        }
      ],
      "source": [
        "output = model.predict(image)\n",
        "plt.imshow(image[0])\n",
        "print(np.argmax(output))"
      ]
    },
    {
      "cell_type": "code",
      "execution_count": null,
      "metadata": {
        "id": "qsm6kGCFkeKT"
      },
      "outputs": [],
      "source": [
        "model.save('/content/hand_written_Digit_recog_model.keras')"
      ]
    }
  ],
  "metadata": {
    "colab": {
      "provenance": [],
      "include_colab_link": true
    },
    "kernelspec": {
      "display_name": "Python 3",
      "name": "python3"
    },
    "language_info": {
      "name": "python"
    }
  },
  "nbformat": 4,
  "nbformat_minor": 0
}